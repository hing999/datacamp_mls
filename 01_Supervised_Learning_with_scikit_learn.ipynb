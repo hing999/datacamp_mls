{
  "nbformat": 4,
  "nbformat_minor": 0,
  "metadata": {
    "colab": {
      "provenance": [],
      "collapsed_sections": [],
      "authorship_tag": "ABX9TyNRRnyDagumzQ6VUa/ABbUX",
      "include_colab_link": true
    },
    "kernelspec": {
      "name": "python3",
      "display_name": "Python 3"
    },
    "language_info": {
      "name": "python"
    }
  },
  "cells": [
    {
      "cell_type": "markdown",
      "metadata": {
        "id": "view-in-github",
        "colab_type": "text"
      },
      "source": [
        "<a href=\"https://colab.research.google.com/github/hing999/datacamp_mls/blob/main/01_Supervised_Learning_with_scikit_learn.ipynb\" target=\"_parent\"><img src=\"https://colab.research.google.com/assets/colab-badge.svg\" alt=\"Open In Colab\"/></a>"
      ]
    },
    {
      "cell_type": "code",
      "source": [
        "!mkdir -p ~/.kaggle\n",
        "!cp kaggle.json ~/.kaggle\n",
        "!chmod 600 ~/.kaggle/kaggle.json"
      ],
      "metadata": {
        "id": "dioWRixMIZBG"
      },
      "execution_count": 6,
      "outputs": []
    },
    {
      "cell_type": "code",
      "source": [
        "import sklearn\n",
        "import pandas as pd\n",
        "import matplotlib.pyplot as plt \n",
        "import numpy as np"
      ],
      "metadata": {
        "id": "5wnsablqFYth"
      },
      "execution_count": 24,
      "outputs": []
    },
    {
      "cell_type": "code",
      "source": [
        "!kaggle competitions download -c customer-churn-prediction-2020"
      ],
      "metadata": {
        "colab": {
          "base_uri": "https://localhost:8080/"
        },
        "id": "AfWERysbIYNs",
        "outputId": "d2eac50d-33ff-42ec-bca1-b5826876d6d6"
      },
      "execution_count": 7,
      "outputs": [
        {
          "output_type": "stream",
          "name": "stdout",
          "text": [
            "Downloading customer-churn-prediction-2020.zip to /content\n",
            "\r  0% 0.00/154k [00:00<?, ?B/s]\n",
            "\r100% 154k/154k [00:00<00:00, 46.9MB/s]\n"
          ]
        }
      ]
    },
    {
      "cell_type": "code",
      "source": [
        "!unzip /content/customer-churn-prediction-2020.zip"
      ],
      "metadata": {
        "colab": {
          "base_uri": "https://localhost:8080/"
        },
        "id": "5ciTi8WVIyJm",
        "outputId": "1946ee0d-85c6-405b-93e4-cfbc85a4b774"
      },
      "execution_count": 8,
      "outputs": [
        {
          "output_type": "stream",
          "name": "stdout",
          "text": [
            "Archive:  /content/customer-churn-prediction-2020.zip\n",
            "  inflating: sampleSubmission.csv    \n",
            "  inflating: test.csv                \n",
            "  inflating: train.csv               \n"
          ]
        }
      ]
    },
    {
      "cell_type": "code",
      "source": [
        "churn_df = pd.read_csv(\"/content/customer-churn-prediction-2020/train.csv\")\n",
        "churn_df.head()"
      ],
      "metadata": {
        "colab": {
          "base_uri": "https://localhost:8080/",
          "height": 270
        },
        "id": "kh8YP2rUI_fY",
        "outputId": "95b93a69-d5f1-410b-ce41-d57a129ebb25"
      },
      "execution_count": 11,
      "outputs": [
        {
          "output_type": "execute_result",
          "data": {
            "text/plain": [
              "  state  account_length      area_code international_plan voice_mail_plan  \\\n",
              "0    OH             107  area_code_415                 no             yes   \n",
              "1    NJ             137  area_code_415                 no              no   \n",
              "2    OH              84  area_code_408                yes              no   \n",
              "3    OK              75  area_code_415                yes              no   \n",
              "4    MA             121  area_code_510                 no             yes   \n",
              "\n",
              "   number_vmail_messages  total_day_minutes  total_day_calls  \\\n",
              "0                     26              161.6              123   \n",
              "1                      0              243.4              114   \n",
              "2                      0              299.4               71   \n",
              "3                      0              166.7              113   \n",
              "4                     24              218.2               88   \n",
              "\n",
              "   total_day_charge  total_eve_minutes  total_eve_calls  total_eve_charge  \\\n",
              "0             27.47              195.5              103             16.62   \n",
              "1             41.38              121.2              110             10.30   \n",
              "2             50.90               61.9               88              5.26   \n",
              "3             28.34              148.3              122             12.61   \n",
              "4             37.09              348.5              108             29.62   \n",
              "\n",
              "   total_night_minutes  total_night_calls  total_night_charge  \\\n",
              "0                254.4                103               11.45   \n",
              "1                162.6                104                7.32   \n",
              "2                196.9                 89                8.86   \n",
              "3                186.9                121                8.41   \n",
              "4                212.6                118                9.57   \n",
              "\n",
              "   total_intl_minutes  total_intl_calls  total_intl_charge  \\\n",
              "0                13.7                 3               3.70   \n",
              "1                12.2                 5               3.29   \n",
              "2                 6.6                 7               1.78   \n",
              "3                10.1                 3               2.73   \n",
              "4                 7.5                 7               2.03   \n",
              "\n",
              "   number_customer_service_calls churn  \n",
              "0                              1    no  \n",
              "1                              0    no  \n",
              "2                              2    no  \n",
              "3                              3    no  \n",
              "4                              3    no  "
            ],
            "text/html": [
              "\n",
              "  <div id=\"df-6a19059b-1b30-49d7-b4a2-29dfaebecd14\">\n",
              "    <div class=\"colab-df-container\">\n",
              "      <div>\n",
              "<style scoped>\n",
              "    .dataframe tbody tr th:only-of-type {\n",
              "        vertical-align: middle;\n",
              "    }\n",
              "\n",
              "    .dataframe tbody tr th {\n",
              "        vertical-align: top;\n",
              "    }\n",
              "\n",
              "    .dataframe thead th {\n",
              "        text-align: right;\n",
              "    }\n",
              "</style>\n",
              "<table border=\"1\" class=\"dataframe\">\n",
              "  <thead>\n",
              "    <tr style=\"text-align: right;\">\n",
              "      <th></th>\n",
              "      <th>state</th>\n",
              "      <th>account_length</th>\n",
              "      <th>area_code</th>\n",
              "      <th>international_plan</th>\n",
              "      <th>voice_mail_plan</th>\n",
              "      <th>number_vmail_messages</th>\n",
              "      <th>total_day_minutes</th>\n",
              "      <th>total_day_calls</th>\n",
              "      <th>total_day_charge</th>\n",
              "      <th>total_eve_minutes</th>\n",
              "      <th>total_eve_calls</th>\n",
              "      <th>total_eve_charge</th>\n",
              "      <th>total_night_minutes</th>\n",
              "      <th>total_night_calls</th>\n",
              "      <th>total_night_charge</th>\n",
              "      <th>total_intl_minutes</th>\n",
              "      <th>total_intl_calls</th>\n",
              "      <th>total_intl_charge</th>\n",
              "      <th>number_customer_service_calls</th>\n",
              "      <th>churn</th>\n",
              "    </tr>\n",
              "  </thead>\n",
              "  <tbody>\n",
              "    <tr>\n",
              "      <th>0</th>\n",
              "      <td>OH</td>\n",
              "      <td>107</td>\n",
              "      <td>area_code_415</td>\n",
              "      <td>no</td>\n",
              "      <td>yes</td>\n",
              "      <td>26</td>\n",
              "      <td>161.6</td>\n",
              "      <td>123</td>\n",
              "      <td>27.47</td>\n",
              "      <td>195.5</td>\n",
              "      <td>103</td>\n",
              "      <td>16.62</td>\n",
              "      <td>254.4</td>\n",
              "      <td>103</td>\n",
              "      <td>11.45</td>\n",
              "      <td>13.7</td>\n",
              "      <td>3</td>\n",
              "      <td>3.70</td>\n",
              "      <td>1</td>\n",
              "      <td>no</td>\n",
              "    </tr>\n",
              "    <tr>\n",
              "      <th>1</th>\n",
              "      <td>NJ</td>\n",
              "      <td>137</td>\n",
              "      <td>area_code_415</td>\n",
              "      <td>no</td>\n",
              "      <td>no</td>\n",
              "      <td>0</td>\n",
              "      <td>243.4</td>\n",
              "      <td>114</td>\n",
              "      <td>41.38</td>\n",
              "      <td>121.2</td>\n",
              "      <td>110</td>\n",
              "      <td>10.30</td>\n",
              "      <td>162.6</td>\n",
              "      <td>104</td>\n",
              "      <td>7.32</td>\n",
              "      <td>12.2</td>\n",
              "      <td>5</td>\n",
              "      <td>3.29</td>\n",
              "      <td>0</td>\n",
              "      <td>no</td>\n",
              "    </tr>\n",
              "    <tr>\n",
              "      <th>2</th>\n",
              "      <td>OH</td>\n",
              "      <td>84</td>\n",
              "      <td>area_code_408</td>\n",
              "      <td>yes</td>\n",
              "      <td>no</td>\n",
              "      <td>0</td>\n",
              "      <td>299.4</td>\n",
              "      <td>71</td>\n",
              "      <td>50.90</td>\n",
              "      <td>61.9</td>\n",
              "      <td>88</td>\n",
              "      <td>5.26</td>\n",
              "      <td>196.9</td>\n",
              "      <td>89</td>\n",
              "      <td>8.86</td>\n",
              "      <td>6.6</td>\n",
              "      <td>7</td>\n",
              "      <td>1.78</td>\n",
              "      <td>2</td>\n",
              "      <td>no</td>\n",
              "    </tr>\n",
              "    <tr>\n",
              "      <th>3</th>\n",
              "      <td>OK</td>\n",
              "      <td>75</td>\n",
              "      <td>area_code_415</td>\n",
              "      <td>yes</td>\n",
              "      <td>no</td>\n",
              "      <td>0</td>\n",
              "      <td>166.7</td>\n",
              "      <td>113</td>\n",
              "      <td>28.34</td>\n",
              "      <td>148.3</td>\n",
              "      <td>122</td>\n",
              "      <td>12.61</td>\n",
              "      <td>186.9</td>\n",
              "      <td>121</td>\n",
              "      <td>8.41</td>\n",
              "      <td>10.1</td>\n",
              "      <td>3</td>\n",
              "      <td>2.73</td>\n",
              "      <td>3</td>\n",
              "      <td>no</td>\n",
              "    </tr>\n",
              "    <tr>\n",
              "      <th>4</th>\n",
              "      <td>MA</td>\n",
              "      <td>121</td>\n",
              "      <td>area_code_510</td>\n",
              "      <td>no</td>\n",
              "      <td>yes</td>\n",
              "      <td>24</td>\n",
              "      <td>218.2</td>\n",
              "      <td>88</td>\n",
              "      <td>37.09</td>\n",
              "      <td>348.5</td>\n",
              "      <td>108</td>\n",
              "      <td>29.62</td>\n",
              "      <td>212.6</td>\n",
              "      <td>118</td>\n",
              "      <td>9.57</td>\n",
              "      <td>7.5</td>\n",
              "      <td>7</td>\n",
              "      <td>2.03</td>\n",
              "      <td>3</td>\n",
              "      <td>no</td>\n",
              "    </tr>\n",
              "  </tbody>\n",
              "</table>\n",
              "</div>\n",
              "      <button class=\"colab-df-convert\" onclick=\"convertToInteractive('df-6a19059b-1b30-49d7-b4a2-29dfaebecd14')\"\n",
              "              title=\"Convert this dataframe to an interactive table.\"\n",
              "              style=\"display:none;\">\n",
              "        \n",
              "  <svg xmlns=\"http://www.w3.org/2000/svg\" height=\"24px\"viewBox=\"0 0 24 24\"\n",
              "       width=\"24px\">\n",
              "    <path d=\"M0 0h24v24H0V0z\" fill=\"none\"/>\n",
              "    <path d=\"M18.56 5.44l.94 2.06.94-2.06 2.06-.94-2.06-.94-.94-2.06-.94 2.06-2.06.94zm-11 1L8.5 8.5l.94-2.06 2.06-.94-2.06-.94L8.5 2.5l-.94 2.06-2.06.94zm10 10l.94 2.06.94-2.06 2.06-.94-2.06-.94-.94-2.06-.94 2.06-2.06.94z\"/><path d=\"M17.41 7.96l-1.37-1.37c-.4-.4-.92-.59-1.43-.59-.52 0-1.04.2-1.43.59L10.3 9.45l-7.72 7.72c-.78.78-.78 2.05 0 2.83L4 21.41c.39.39.9.59 1.41.59.51 0 1.02-.2 1.41-.59l7.78-7.78 2.81-2.81c.8-.78.8-2.07 0-2.86zM5.41 20L4 18.59l7.72-7.72 1.47 1.35L5.41 20z\"/>\n",
              "  </svg>\n",
              "      </button>\n",
              "      \n",
              "  <style>\n",
              "    .colab-df-container {\n",
              "      display:flex;\n",
              "      flex-wrap:wrap;\n",
              "      gap: 12px;\n",
              "    }\n",
              "\n",
              "    .colab-df-convert {\n",
              "      background-color: #E8F0FE;\n",
              "      border: none;\n",
              "      border-radius: 50%;\n",
              "      cursor: pointer;\n",
              "      display: none;\n",
              "      fill: #1967D2;\n",
              "      height: 32px;\n",
              "      padding: 0 0 0 0;\n",
              "      width: 32px;\n",
              "    }\n",
              "\n",
              "    .colab-df-convert:hover {\n",
              "      background-color: #E2EBFA;\n",
              "      box-shadow: 0px 1px 2px rgba(60, 64, 67, 0.3), 0px 1px 3px 1px rgba(60, 64, 67, 0.15);\n",
              "      fill: #174EA6;\n",
              "    }\n",
              "\n",
              "    [theme=dark] .colab-df-convert {\n",
              "      background-color: #3B4455;\n",
              "      fill: #D2E3FC;\n",
              "    }\n",
              "\n",
              "    [theme=dark] .colab-df-convert:hover {\n",
              "      background-color: #434B5C;\n",
              "      box-shadow: 0px 1px 3px 1px rgba(0, 0, 0, 0.15);\n",
              "      filter: drop-shadow(0px 1px 2px rgba(0, 0, 0, 0.3));\n",
              "      fill: #FFFFFF;\n",
              "    }\n",
              "  </style>\n",
              "\n",
              "      <script>\n",
              "        const buttonEl =\n",
              "          document.querySelector('#df-6a19059b-1b30-49d7-b4a2-29dfaebecd14 button.colab-df-convert');\n",
              "        buttonEl.style.display =\n",
              "          google.colab.kernel.accessAllowed ? 'block' : 'none';\n",
              "\n",
              "        async function convertToInteractive(key) {\n",
              "          const element = document.querySelector('#df-6a19059b-1b30-49d7-b4a2-29dfaebecd14');\n",
              "          const dataTable =\n",
              "            await google.colab.kernel.invokeFunction('convertToInteractive',\n",
              "                                                     [key], {});\n",
              "          if (!dataTable) return;\n",
              "\n",
              "          const docLinkHtml = 'Like what you see? Visit the ' +\n",
              "            '<a target=\"_blank\" href=https://colab.research.google.com/notebooks/data_table.ipynb>data table notebook</a>'\n",
              "            + ' to learn more about interactive tables.';\n",
              "          element.innerHTML = '';\n",
              "          dataTable['output_type'] = 'display_data';\n",
              "          await google.colab.output.renderOutput(dataTable, element);\n",
              "          const docLink = document.createElement('div');\n",
              "          docLink.innerHTML = docLinkHtml;\n",
              "          element.appendChild(docLink);\n",
              "        }\n",
              "      </script>\n",
              "    </div>\n",
              "  </div>\n",
              "  "
            ]
          },
          "metadata": {},
          "execution_count": 11
        }
      ]
    },
    {
      "cell_type": "code",
      "execution_count": 14,
      "metadata": {
        "colab": {
          "base_uri": "https://localhost:8080/"
        },
        "id": "XImksuKZEfmC",
        "outputId": "2781ad94-0452-4748-b8f1-b2796fb2ff7b"
      },
      "outputs": [
        {
          "output_type": "stream",
          "name": "stdout",
          "text": [
            "(4250, 2) (4250,)\n"
          ]
        }
      ],
      "source": [
        "# Using scikit-learn to fit a classifier\n",
        "\n",
        "from sklearn.neighbors import KNeighborsClassifier\n",
        "\n",
        "X = churn_df[[\"total_day_charge\", \"total_eve_charge\"]].values\n",
        "y = churn_df[\"churn\"].values\n",
        "print(X.shape, y.shape)"
      ]
    },
    {
      "cell_type": "code",
      "source": [
        "knn = KNeighborsClassifier(n_neighbors = 15)\n",
        "knn.fit(X,y)"
      ],
      "metadata": {
        "colab": {
          "base_uri": "https://localhost:8080/"
        },
        "id": "Fk00nKe8E7tE",
        "outputId": "0ca0152c-0c3f-4439-e373-6b6e95e4d129"
      },
      "execution_count": 15,
      "outputs": [
        {
          "output_type": "execute_result",
          "data": {
            "text/plain": [
              "KNeighborsClassifier(n_neighbors=15)"
            ]
          },
          "metadata": {},
          "execution_count": 15
        }
      ]
    },
    {
      "cell_type": "code",
      "source": [
        "X_new = np.array([[56.8, 17.5],\n",
        "                  [24.4, 24.1],\n",
        "                  [50.1, 10.9]])\n",
        "print(X_new.shape)"
      ],
      "metadata": {
        "colab": {
          "base_uri": "https://localhost:8080/"
        },
        "id": "EJc6Zlz9Jdzp",
        "outputId": "7d82de2c-e6f2-4732-f4b7-8b025e4f74c3"
      },
      "execution_count": 16,
      "outputs": [
        {
          "output_type": "stream",
          "name": "stdout",
          "text": [
            "(3, 2)\n"
          ]
        }
      ]
    },
    {
      "cell_type": "code",
      "source": [
        "predictions = knn.predict(X_new)\n",
        "print('Predictions: {}'.format(predictions))"
      ],
      "metadata": {
        "colab": {
          "base_uri": "https://localhost:8080/"
        },
        "id": "wbzdQlzqJnNq",
        "outputId": "5aa8ffab-a642-4708-d9a3-a36cebb39010"
      },
      "execution_count": 17,
      "outputs": [
        {
          "output_type": "stream",
          "name": "stdout",
          "text": [
            "Predictions: ['yes' 'no' 'no']\n"
          ]
        }
      ]
    },
    {
      "cell_type": "code",
      "source": [
        "# Train/test split\n",
        "\n",
        "from sklearn.model_selection import train_test_split\n",
        "\n",
        "X_train, X_test, y_train, y_test = train_test_split(X, y, test_size = 0.3,\n",
        "                                                    random_state = 21, stratify = y)\n",
        "knn = KNeighborsClassifier(n_neighbors=6)\n",
        "knn.fit(X_train, y_train)\n",
        "print(knn.score(X_test, y_test))"
      ],
      "metadata": {
        "colab": {
          "base_uri": "https://localhost:8080/"
        },
        "id": "Mmpo0FW1Jvzo",
        "outputId": "d334d589-4a06-4376-f719-a47f7f21b18a"
      },
      "execution_count": 20,
      "outputs": [
        {
          "output_type": "stream",
          "name": "stdout",
          "text": [
            "0.8745098039215686\n"
          ]
        }
      ]
    },
    {
      "cell_type": "code",
      "source": [
        "# Model complexity and over/underfitting\n",
        "\n",
        "train_accuracies = {}\n",
        "test_accuracies = {}\n",
        "neighbors = np.arange(1,26)\n",
        "for neighbor in neighbors :\n",
        "    # Set up a KNN Classifier\n",
        "    knn = KNeighborsClassifier(n_neighbors = neighbor)\n",
        "    # Fit the model\n",
        "    knn.fit(X_train, y_train)\n",
        "    # Compute accuracy\n",
        "    train_accuracies[neighbor] = knn.score(X_train, y_train)\n",
        "    test_accuracies[neighbor] = knn.score(X_test,y_test)"
      ],
      "metadata": {
        "id": "HDfl5lNGLb3N"
      },
      "execution_count": 74,
      "outputs": []
    },
    {
      "cell_type": "code",
      "source": [
        "neighbors.shape"
      ],
      "metadata": {
        "colab": {
          "base_uri": "https://localhost:8080/"
        },
        "id": "h6qskDWJRMum",
        "outputId": "05c239d9-2508-4bb7-edb5-30fa7f2f31dc"
      },
      "execution_count": 68,
      "outputs": [
        {
          "output_type": "execute_result",
          "data": {
            "text/plain": [
              "(25,)"
            ]
          },
          "metadata": {},
          "execution_count": 68
        }
      ]
    },
    {
      "cell_type": "code",
      "source": [
        "# neighbors = neighbors.reshape(1,25)"
      ],
      "metadata": {
        "id": "rdfVC58bSv8Z"
      },
      "execution_count": 69,
      "outputs": []
    },
    {
      "cell_type": "code",
      "source": [
        "train_accuracies"
      ],
      "metadata": {
        "colab": {
          "base_uri": "https://localhost:8080/"
        },
        "id": "lKzKllfdNYSl",
        "outputId": "3a226216-3748-44af-8f6f-617819f0389c"
      },
      "execution_count": 73,
      "outputs": [
        {
          "output_type": "execute_result",
          "data": {
            "text/plain": [
              "0.8857142857142857"
            ]
          },
          "metadata": {},
          "execution_count": 73
        }
      ]
    },
    {
      "cell_type": "code",
      "source": [
        "# Plotting our results\n",
        "\n",
        "plt.figure(figsize = (8,6))\n",
        "\n",
        "# Add a title\n",
        "plt.title(\"KNN: Varying Number of Neighbors\")\n",
        "\n",
        "# Plot training accuracies\n",
        "plt.plot(neighbors, list(train_accuracies.values()), label=\"Training Accuracy\")\n",
        "\n",
        "# Plot test accuracies\n",
        "plt.plot(neighbors, list(test_accuracies.values()), label=\"Testing Accuracy\")\n",
        "\n",
        "plt.legend()\n",
        "plt.xlabel(\"Number of Neighbors\")\n",
        "plt.ylabel(\"Accuracy\")\n",
        "\n",
        "# Display the plot\n",
        "plt.show()"
      ],
      "metadata": {
        "colab": {
          "base_uri": "https://localhost:8080/",
          "height": 404
        },
        "id": "ZxZlht0qMePL",
        "outputId": "af1546a2-33a1-4243-b174-7b288ad9f107"
      },
      "execution_count": 77,
      "outputs": [
        {
          "output_type": "display_data",
          "data": {
            "text/plain": [
              "<Figure size 576x432 with 1 Axes>"
            ],
            "image/png": "[encoded data removed]"
          },
          "metadata": {
            "needs_background": "light"
          }
        }
      ]
    },
    {
      "cell_type": "markdown",
      "source": [
        "Intorduction to regression"
      ],
      "metadata": {
        "id": "cNJnAJjuVB9R"
      }
    },
    {
      "cell_type": "code",
      "source": [
        "import pandas as pd\n",
        "diabetes_df = pd.read_csv(\"/content/diabetes.csv\")\n",
        "print(diabetes_df.head())"
      ],
      "metadata": {
        "colab": {
          "base_uri": "https://localhost:8080/"
        },
        "id": "jCFaKh30NGK9",
        "outputId": "3e431908-dd93-4b4e-807f-270bd6de05c0"
      },
      "execution_count": 80,
      "outputs": [
        {
          "output_type": "stream",
          "name": "stdout",
          "text": [
            "   Pregnancies  Glucose  BloodPressure  SkinThickness  Insulin   BMI  \\\n",
            "0            6      148             72             35        0  33.6   \n",
            "1            1       85             66             29        0  26.6   \n",
            "2            8      183             64              0        0  23.3   \n",
            "3            1       89             66             23       94  28.1   \n",
            "4            0      137             40             35      168  43.1   \n",
            "\n",
            "   DiabetesPedigreeFunction  Age  Outcome  \n",
            "0                     0.627   50        1  \n",
            "1                     0.351   31        0  \n",
            "2                     0.672   32        1  \n",
            "3                     0.167   21        0  \n",
            "4                     2.288   33        1  \n"
          ]
        }
      ]
    },
    {
      "cell_type": "code",
      "source": [
        "# Creating Feature and Target Arrays\n",
        "\n",
        "X = diabetes_df.drop(\"Glucose\", axis = 1).values\n",
        "y = diabetes_df[\"Glucose\"].values\n",
        "\n",
        "print(type(X), type(y))"
      ],
      "metadata": {
        "colab": {
          "base_uri": "https://localhost:8080/"
        },
        "id": "XFfLOvr6VuNa",
        "outputId": "3ac67710-71dd-4149-b20c-ff41904c5b75"
      },
      "execution_count": 82,
      "outputs": [
        {
          "output_type": "stream",
          "name": "stdout",
          "text": [
            "<class 'numpy.ndarray'> <class 'numpy.ndarray'>\n"
          ]
        }
      ]
    },
    {
      "cell_type": "code",
      "source": [
        "# Making Predictions from a single feature\n",
        "\n",
        "X_bmi = X[:,4]\n",
        "print(y.shape, X_bmi.shape)"
      ],
      "metadata": {
        "colab": {
          "base_uri": "https://localhost:8080/"
        },
        "id": "vy1tHB4iXA6_",
        "outputId": "fcebea77-2376-4cc6-bb2c-a35e72443f58"
      },
      "execution_count": 96,
      "outputs": [
        {
          "output_type": "stream",
          "name": "stdout",
          "text": [
            "(768,) (768,)\n"
          ]
        }
      ]
    },
    {
      "cell_type": "code",
      "source": [
        "X[0,4]"
      ],
      "metadata": {
        "colab": {
          "base_uri": "https://localhost:8080/"
        },
        "id": "mHWr-JCCYulD",
        "outputId": "57c85344-7133-4b20-cdc8-ba7d2c293408"
      },
      "execution_count": 97,
      "outputs": [
        {
          "output_type": "execute_result",
          "data": {
            "text/plain": [
              "33.6"
            ]
          },
          "metadata": {},
          "execution_count": 97
        }
      ]
    },
    {
      "cell_type": "code",
      "source": [
        "X_bmi = X_bmi.reshape(-1,1)\n",
        "print(X_bmi.shape)"
      ],
      "metadata": {
        "colab": {
          "base_uri": "https://localhost:8080/"
        },
        "id": "ZoxzcZnbXQde",
        "outputId": "f037e1bf-90af-4b9a-b198-26168a42d96f"
      },
      "execution_count": 98,
      "outputs": [
        {
          "output_type": "stream",
          "name": "stdout",
          "text": [
            "(768, 1)\n"
          ]
        }
      ]
    },
    {
      "cell_type": "code",
      "source": [
        "# Plotting glucose vs body mass index\n",
        "\n",
        "import matplotlib.pyplot as plt\n",
        "plt.scatter(X_bmi, y)\n",
        "plt.ylabel(\"Blood Glucose (mg/dl)\")\n",
        "plt.xlabel(\"Body Mass Index\")\n",
        "plt.show()"
      ],
      "metadata": {
        "colab": {
          "base_uri": "https://localhost:8080/",
          "height": 279
        },
        "id": "hWi79yt8XXVd",
        "outputId": "d8172048-b17b-4e77-85bf-65085b725850"
      },
      "execution_count": 99,
      "outputs": [
        {
          "output_type": "display_data",
          "data": {
            "text/plain": [
              "<Figure size 432x288 with 1 Axes>"
            ],
            "image/png": "[encoded data removed]"
          },
          "metadata": {
            "needs_background": "light"
          }
        }
      ]
    },
    {
      "cell_type": "code",
      "source": [
        "# Fitting a regression model\n",
        "\n",
        "from sklearn.linear_model import LinearRegression\n",
        "reg = LinearRegression()\n",
        "reg.fit(X_bmi, y)\n",
        "predictions = reg.predict(X_bmi)\n",
        "plt.scatter(X_bmi, y)\n",
        "plt.plot(X_bmi, predictions, color =\"red\")\n",
        "plt.ylabel(\"Blood Glucose (mg/dl)\")\n",
        "plt.xlabel(\"Body Mass Index\")\n",
        "plt.show()"
      ],
      "metadata": {
        "colab": {
          "base_uri": "https://localhost:8080/",
          "height": 279
        },
        "id": "9Ff_AnivXpTN",
        "outputId": "0a5ed7f3-3aca-4e3e-db60-285d453cbbc1"
      },
      "execution_count": 101,
      "outputs": [
        {
          "output_type": "display_data",
          "data": {
            "text/plain": [
              "<Figure size 432x288 with 1 Axes>"
            ],
            "image/png": "[encoded data removed]"
          },
          "metadata": {
            "needs_background": "light"
          }
        }
      ]
    },
    {
      "cell_type": "code",
      "source": [
        "# Linear regression using all features\n",
        "\n",
        "from sklearn.model_selection import train_test_split\n",
        "from sklearn.linear_model import LinearRegression\n",
        "X_train, X_test, y_train, y_test = train_test_split(X, y, test_size=0.3,\n",
        "                                                    random_state=42)\n",
        "reg_all = LinearRegression()\n",
        "reg_all.fit(X_train, y_train)\n",
        "y_pred = reg_all.predict(X_test)\n"
      ],
      "metadata": {
        "id": "0qSWJx4UYDYs"
      },
      "execution_count": 107,
      "outputs": []
    },
    {
      "cell_type": "code",
      "source": [
        "# R-squared in scikit-learn\n",
        "reg_all.score(X_test, y_test)"
      ],
      "metadata": {
        "colab": {
          "base_uri": "https://localhost:8080/"
        },
        "id": "r-WOrGBYbxov",
        "outputId": "eb437ce1-e880-4531-dca9-b13aad834d4d"
      },
      "execution_count": 109,
      "outputs": [
        {
          "output_type": "execute_result",
          "data": {
            "text/plain": [
              "0.28280468810375115"
            ]
          },
          "metadata": {},
          "execution_count": 109
        }
      ]
    },
    {
      "cell_type": "code",
      "source": [
        "# RMSE in scikit-learn\n",
        "from sklearn.metrics import mean_squared_error\n",
        "mean_squared_error(y_test, y_pred, squared=False)"
      ],
      "metadata": {
        "colab": {
          "base_uri": "https://localhost:8080/"
        },
        "id": "0Eqn1oqXcWmV",
        "outputId": "f23adaff-873e-413a-8222-80053b20bc17"
      },
      "execution_count": 110,
      "outputs": [
        {
          "output_type": "execute_result",
          "data": {
            "text/plain": [
              "26.341459582232265"
            ]
          },
          "metadata": {},
          "execution_count": 110
        }
      ]
    },
    {
      "cell_type": "code",
      "source": [
        "# Import mean_squared_error\n",
        "from sklearn.metrics import mean_squared_error\n",
        "\n",
        "# Compute R-squared\n",
        "r_squared = reg_all.score(X_test, y_test)\n",
        "\n",
        "# Compute RMSE\n",
        "rmse = mean_squared_error(y_test, y_pred, squared=False)\n",
        "\n",
        "# Print the metrics\n",
        "print(\"R^2: {}\".format(r_squared))\n",
        "print(\"RMSE: {}\".format(rmse))"
      ],
      "metadata": {
        "colab": {
          "base_uri": "https://localhost:8080/"
        },
        "id": "H6MNHCKHcb95",
        "outputId": "c4844c0b-7f4c-4514-d92d-edd4a152a373"
      },
      "execution_count": 116,
      "outputs": [
        {
          "output_type": "stream",
          "name": "stdout",
          "text": [
            "R^2: 0.28280468810375115\n",
            "RMSE: 26.341459582232265\n"
          ]
        }
      ]
    },
    {
      "cell_type": "code",
      "source": [
        "## Cross-validation in scikit-learn \n",
        "\n",
        "from sklearn.model_selection import cross_val_score, KFold\n",
        "kf = KFold(n_splits=6, shuffle=True, random_state=42)\n",
        "reg = LinearRegression()\n",
        "cv_results = cross_val_score(reg, X, y, cv=kf)"
      ],
      "metadata": {
        "id": "dWzqWmx2eAee"
      },
      "execution_count": 126,
      "outputs": []
    },
    {
      "cell_type": "code",
      "source": [
        "print(cv_results)"
      ],
      "metadata": {
        "colab": {
          "base_uri": "https://localhost:8080/"
        },
        "id": "rKqIVpY4eRiz",
        "outputId": "ab1e7679-946f-4032-b9d0-73f74f360051"
      },
      "execution_count": 127,
      "outputs": [
        {
          "output_type": "stream",
          "name": "stdout",
          "text": [
            "[0.26207548 0.28228176 0.41203082 0.23785884 0.41634629 0.30398869]\n"
          ]
        }
      ]
    },
    {
      "cell_type": "code",
      "source": [
        "print(np.mean(cv_results), np.std(cv_results))"
      ],
      "metadata": {
        "colab": {
          "base_uri": "https://localhost:8080/"
        },
        "id": "qZZaDIdHeaDO",
        "outputId": "aa1a47ea-21ab-487f-e909-325dad3c6954"
      },
      "execution_count": 128,
      "outputs": [
        {
          "output_type": "stream",
          "name": "stdout",
          "text": [
            "0.31909697867344783 0.07015320610114187\n"
          ]
        }
      ]
    },
    {
      "cell_type": "code",
      "source": [
        "print(np.quantile(cv_results, [0.025, 0.975]))"
      ],
      "metadata": {
        "colab": {
          "base_uri": "https://localhost:8080/"
        },
        "id": "dHNIDssTecse",
        "outputId": "ee71f52a-c2b7-42a0-a625-a8e88bc17600"
      },
      "execution_count": 129,
      "outputs": [
        {
          "output_type": "stream",
          "name": "stdout",
          "text": [
            "[0.24088592 0.41580685]\n"
          ]
        }
      ]
    },
    {
      "cell_type": "code",
      "source": [],
      "metadata": {
        "id": "KELwSeStehHg"
      },
      "execution_count": 129,
      "outputs": []
    },
    {
      "cell_type": "code",
      "source": [
        "# Ridge regression in scikit-learn\n",
        "from sklearn.linear_model import Ridge\n",
        "scores = []\n",
        "for alpha in [0.1, 1.0, 10.0, 100.0, 1000.0]:\n",
        "    ridge = Ridge(alpha=alpha)\n",
        "    ridge.fit(X_train, y_train)\n",
        "    y_pred = ridge.predict(X_test)\n",
        "    scores.append(ridge.score(X_test, y_test))\n",
        "print(scores)"
      ],
      "metadata": {
        "colab": {
          "base_uri": "https://localhost:8080/"
        },
        "id": "N_9Q2lNMgtm_",
        "outputId": "fa5c2fa7-f977-4aa9-cbda-e89e61a0ddf9"
      },
      "execution_count": 133,
      "outputs": [
        {
          "output_type": "stream",
          "name": "stdout",
          "text": [
            "[0.2828466623222221, 0.28320633574804777, 0.2853000732200006, 0.26423984812668133, 0.19292424694100963]\n"
          ]
        }
      ]
    },
    {
      "cell_type": "code",
      "source": [
        "# Lasso regression in scikit-learn\n",
        "from sklearn.linear_model import Lasso\n",
        "scores = []\n",
        "for alpha in [0.01, 1.0, 10.0, 20.0, 50.0]:\n",
        "    lasso = Lasso(alpha=alpha)\n",
        "    lasso.fit(X_train, y_train)\n",
        "    lasso_pred = lasso.predict(X_test)\n",
        "    scores.append(lasso.score(X_test, y_test))\n",
        "print(scores)\n"
      ],
      "metadata": {
        "colab": {
          "base_uri": "https://localhost:8080/"
        },
        "id": "6B6gQM6bgtkI",
        "outputId": "23908c2c-b5fa-4873-b58d-f81453190f2f"
      },
      "execution_count": 136,
      "outputs": [
        {
          "output_type": "stream",
          "name": "stdout",
          "text": [
            "[0.2831114455475573, 0.29795609755827845, 0.17989838789273893, 0.18127361610181125, 0.15679544303617987]\n"
          ]
        }
      ]
    },
    {
      "cell_type": "code",
      "source": [
        "# Lasso for feature selection in scikit-learn\n",
        "from sklearn.linear_model import Lasso\n",
        "X = diabetes_df.drop(\"Glucose\", axis=1).values\n",
        "y = diabetes_df[\"Glucose\"].values\n",
        "names = diabetes_df.drop(\"Glucose\", axis=1).columns\n",
        "lasso = Lasso(alpha=0.1)\n",
        "lasso_coef = lasso.fit(X, y).coef_\n",
        "plt.bar(names, lasso_coef)\n",
        "plt.xticks(rotation=45)\n",
        "plt.show()"
      ],
      "metadata": {
        "colab": {
          "base_uri": "https://localhost:8080/",
          "height": 355
        },
        "id": "HxDI_rozgthx",
        "outputId": "1985038f-c7f8-49c3-8093-bb536c9acf16"
      },
      "execution_count": 139,
      "outputs": [
        {
          "output_type": "display_data",
          "data": {
            "text/plain": [
              "<Figure size 432x288 with 1 Axes>"
            ],
            "image/png": "[encoded data removed]"
          },
          "metadata": {
            "needs_background": "light"
          }
        }
      ]
    },
    {
      "cell_type": "code",
      "source": [],
      "metadata": {
        "id": "ZbiMfEpggte5"
      },
      "execution_count": null,
      "outputs": []
    },
    {
      "cell_type": "markdown",
      "source": [
        "How good is your model?"
      ],
      "metadata": {
        "id": "biuaxAQRjci2"
      }
    },
    {
      "cell_type": "code",
      "source": [
        "X = diabetes_df.drop(\"Outcome\", axis = 1).values\n",
        "y = diabetes_df[\"Outcome\"].values"
      ],
      "metadata": {
        "id": "ga9NajLdlpaf"
      },
      "execution_count": 152,
      "outputs": []
    },
    {
      "cell_type": "code",
      "source": [
        "X"
      ],
      "metadata": {
        "colab": {
          "base_uri": "https://localhost:8080/"
        },
        "id": "lJLw5XHwmq9H",
        "outputId": "e31e3a68-883b-44a4-ad22-257da72bcd67"
      },
      "execution_count": 153,
      "outputs": [
        {
          "output_type": "execute_result",
          "data": {
            "text/plain": [
              "array([[  6.   , 148.   ,  72.   , ...,  33.6  ,   0.627,  50.   ],\n",
              "       [  1.   ,  85.   ,  66.   , ...,  26.6  ,   0.351,  31.   ],\n",
              "       [  8.   , 183.   ,  64.   , ...,  23.3  ,   0.672,  32.   ],\n",
              "       ...,\n",
              "       [  5.   , 121.   ,  72.   , ...,  26.2  ,   0.245,  30.   ],\n",
              "       [  1.   , 126.   ,  60.   , ...,  30.1  ,   0.349,  47.   ],\n",
              "       [  1.   ,  93.   ,  70.   , ...,  30.4  ,   0.315,  23.   ]])"
            ]
          },
          "metadata": {},
          "execution_count": 153
        }
      ]
    },
    {
      "cell_type": "code",
      "source": [
        "# Confusion matrix in scikit-learn\n",
        "\n",
        "from sklearn.metrics import classification_report, confusion_matrix\n",
        "knn = KNeighborsClassifier(n_neighbors=7)\n",
        "X_train, X_test, y_train, y_test = train_test_split(X, y, test_size=0.4,\n",
        "                                                    random_state=42)\n",
        "knn.fit(X_train, y_train)\n",
        "y_pred = knn.predict(X_test)\n",
        "\n",
        "print(confusion_matrix(y_test, y_pred))\n",
        "print(classification_report(y_test, y_pred))"
      ],
      "metadata": {
        "colab": {
          "base_uri": "https://localhost:8080/"
        },
        "id": "Q8HfMbXkgtc5",
        "outputId": "dc4525f9-e2b9-4509-ef06-35d5b42ca025"
      },
      "execution_count": 154,
      "outputs": [
        {
          "output_type": "stream",
          "name": "stdout",
          "text": [
            "[[163  43]\n",
            " [ 45  57]]\n",
            "              precision    recall  f1-score   support\n",
            "\n",
            "           0       0.78      0.79      0.79       206\n",
            "           1       0.57      0.56      0.56       102\n",
            "\n",
            "    accuracy                           0.71       308\n",
            "   macro avg       0.68      0.68      0.68       308\n",
            "weighted avg       0.71      0.71      0.71       308\n",
            "\n"
          ]
        }
      ]
    },
    {
      "cell_type": "code",
      "source": [],
      "metadata": {
        "id": "Ep1e-Rxwl6ug"
      },
      "execution_count": 154,
      "outputs": []
    },
    {
      "cell_type": "code",
      "source": [
        "y_pred"
      ],
      "metadata": {
        "colab": {
          "base_uri": "https://localhost:8080/"
        },
        "id": "Y427dQipkNrS",
        "outputId": "25f08ed9-e4df-42c4-9f29-b07d106d18e7"
      },
      "execution_count": 155,
      "outputs": [
        {
          "output_type": "execute_result",
          "data": {
            "text/plain": [
              "array([0, 0, 0, 0, 1, 1, 0, 0, 1, 1, 0, 1, 0, 0, 0, 1, 0, 0, 1, 0, 1, 0,\n",
              "       1, 0, 1, 1, 0, 0, 0, 0, 1, 1, 1, 1, 0, 0, 1, 0, 0, 1, 0, 1, 0, 1,\n",
              "       0, 1, 0, 0, 1, 1, 0, 1, 0, 0, 0, 0, 1, 0, 0, 1, 1, 0, 0, 0, 0, 0,\n",
              "       0, 1, 0, 1, 0, 0, 0, 0, 0, 1, 1, 0, 0, 1, 1, 0, 0, 0, 0, 1, 1, 0,\n",
              "       0, 0, 0, 0, 0, 0, 1, 0, 1, 0, 1, 0, 0, 0, 0, 0, 1, 0, 1, 1, 0, 1,\n",
              "       0, 1, 0, 1, 1, 0, 1, 0, 0, 0, 0, 0, 0, 0, 0, 1, 0, 0, 1, 1, 1, 0,\n",
              "       0, 1, 1, 1, 0, 1, 1, 0, 0, 0, 0, 1, 0, 0, 0, 0, 1, 1, 0, 1, 0, 0,\n",
              "       0, 0, 0, 1, 0, 0, 1, 1, 0, 0, 0, 1, 0, 1, 1, 0, 0, 0, 1, 1, 1, 0,\n",
              "       0, 0, 0, 0, 1, 0, 1, 0, 1, 0, 0, 0, 1, 0, 0, 0, 1, 0, 0, 0, 0, 0,\n",
              "       0, 1, 0, 0, 0, 0, 0, 0, 0, 0, 1, 0, 0, 1, 0, 0, 1, 0, 1, 1, 0, 1,\n",
              "       1, 0, 0, 0, 0, 1, 0, 0, 0, 0, 0, 0, 0, 1, 1, 0, 0, 0, 0, 1, 0, 0,\n",
              "       0, 0, 0, 0, 1, 0, 0, 0, 0, 0, 0, 0, 0, 1, 0, 1, 0, 0, 0, 0, 0, 0,\n",
              "       1, 0, 0, 0, 0, 0, 0, 0, 1, 1, 0, 0, 0, 0, 0, 0, 0, 1, 1, 1, 0, 0,\n",
              "       1, 0, 0, 1, 0, 0, 0, 0, 1, 0, 0, 1, 0, 0, 1, 1, 1, 0, 0, 0, 0, 0])"
            ]
          },
          "metadata": {},
          "execution_count": 155
        }
      ]
    },
    {
      "cell_type": "code",
      "source": [
        "print(confusion_matrix(y_test, y_pred))"
      ],
      "metadata": {
        "colab": {
          "base_uri": "https://localhost:8080/"
        },
        "id": "uK6cxLu7gtap",
        "outputId": "d828b62f-56cc-4729-c61a-39954c6937c1"
      },
      "execution_count": 156,
      "outputs": [
        {
          "output_type": "stream",
          "name": "stdout",
          "text": [
            "[[163  43]\n",
            " [ 45  57]]\n"
          ]
        }
      ]
    },
    {
      "cell_type": "code",
      "source": [
        "print(classification_report(y_test, y_pred))"
      ],
      "metadata": {
        "colab": {
          "base_uri": "https://localhost:8080/"
        },
        "id": "c6Ot1yNzgtX9",
        "outputId": "c1d85d99-363a-43f8-82d9-1950fda311de"
      },
      "execution_count": 157,
      "outputs": [
        {
          "output_type": "stream",
          "name": "stdout",
          "text": [
            "              precision    recall  f1-score   support\n",
            "\n",
            "           0       0.78      0.79      0.79       206\n",
            "           1       0.57      0.56      0.56       102\n",
            "\n",
            "    accuracy                           0.71       308\n",
            "   macro avg       0.68      0.68      0.68       308\n",
            "weighted avg       0.71      0.71      0.71       308\n",
            "\n"
          ]
        }
      ]
    },
    {
      "cell_type": "code",
      "source": [],
      "metadata": {
        "id": "ESYWiJ55gtVT"
      },
      "execution_count": 157,
      "outputs": []
    },
    {
      "cell_type": "markdown",
      "source": [
        "Logistic regression in scikit-learn"
      ],
      "metadata": {
        "id": "zveSFKWgmAXp"
      }
    },
    {
      "cell_type": "code",
      "source": [
        "from sklearn.linear_model import LogisticRegression\n",
        "logreg = LogisticRegression()\n",
        "X_train, X_test, y_train, y_test = train_test_split(X, y, test_size=0.3,\n",
        "random_state=42)\n",
        "logreg.fit(X_train, y_train)\n",
        "y_pred = logreg.predict(X_test)"
      ],
      "metadata": {
        "colab": {
          "base_uri": "https://localhost:8080/"
        },
        "id": "dUsa2fVtgtS9",
        "outputId": "aadbfe72-27e3-4134-8555-f0ae499d8faa"
      },
      "execution_count": 160,
      "outputs": [
        {
          "output_type": "stream",
          "name": "stderr",
          "text": [
            "/usr/local/lib/python3.7/dist-packages/sklearn/linear_model/_logistic.py:818: ConvergenceWarning: lbfgs failed to converge (status=1):\n",
            "STOP: TOTAL NO. of ITERATIONS REACHED LIMIT.\n",
            "\n",
            "Increase the number of iterations (max_iter) or scale the data as shown in:\n",
            "    https://scikit-learn.org/stable/modules/preprocessing.html\n",
            "Please also refer to the documentation for alternative solver options:\n",
            "    https://scikit-learn.org/stable/modules/linear_model.html#logistic-regression\n",
            "  extra_warning_msg=_LOGISTIC_SOLVER_CONVERGENCE_MSG,\n"
          ]
        }
      ]
    },
    {
      "cell_type": "code",
      "source": [
        "# Predicting probabilities\n",
        "y_pred_probs = logreg.predict_proba(X_test)[:, 1]\n",
        "print(y_pred_probs[0])"
      ],
      "metadata": {
        "colab": {
          "base_uri": "https://localhost:8080/"
        },
        "id": "awFmPLSOgtPb",
        "outputId": "3197bdfa-bffd-471b-a836-f4d1d8c26f32"
      },
      "execution_count": 161,
      "outputs": [
        {
          "output_type": "stream",
          "name": "stdout",
          "text": [
            "0.26551030166574974\n"
          ]
        }
      ]
    },
    {
      "cell_type": "code",
      "source": [],
      "metadata": {
        "id": "xsDxSmXZgtMR"
      },
      "execution_count": null,
      "outputs": []
    },
    {
      "cell_type": "code",
      "source": [
        "# Plotting the ROC curve\n",
        "from sklearn.metrics import roc_curve\n",
        "fpr, tpr, thresholds = roc_curve(y_test, y_pred_probs)\n",
        "plt.plot([0, 1], [0, 1], 'k--')\n",
        "plt.plot(fpr, tpr)\n",
        "plt.xlabel('False Positive Rate')\n",
        "plt.ylabel('True Positive Rate')\n",
        "plt.title('Logistic Regression ROC Curve')\n",
        "plt.show()"
      ],
      "metadata": {
        "colab": {
          "base_uri": "https://localhost:8080/",
          "height": 295
        },
        "id": "-5Op-sBKgtJ2",
        "outputId": "6809be14-0f40-4aee-b729-30565bb4966e"
      },
      "execution_count": 162,
      "outputs": [
        {
          "output_type": "display_data",
          "data": {
            "text/plain": [
              "<Figure size 432x288 with 1 Axes>"
            ],
            "image/png": "[encoded data removed]"
          },
          "metadata": {
            "needs_background": "light"
          }
        }
      ]
    },
    {
      "cell_type": "code",
      "source": [
        "# ROC AUC in scikit-learn\n",
        "from sklearn.metrics import roc_auc_score\n",
        "print(roc_auc_score(y_test, y_pred_probs))"
      ],
      "metadata": {
        "colab": {
          "base_uri": "https://localhost:8080/"
        },
        "id": "Os7wkkUYgtHQ",
        "outputId": "6cf520aa-12bc-4e9e-c632-9e3a3bd49902"
      },
      "execution_count": 163,
      "outputs": [
        {
          "output_type": "stream",
          "name": "stdout",
          "text": [
            "0.8002483443708608\n"
          ]
        }
      ]
    },
    {
      "cell_type": "code",
      "source": [],
      "metadata": {
        "id": "npNBX3IjgtEn"
      },
      "execution_count": 163,
      "outputs": []
    },
    {
      "cell_type": "markdown",
      "source": [
        "Hyperparameter tuning"
      ],
      "metadata": {
        "id": "MZqLd6LAmaAL"
      }
    },
    {
      "cell_type": "code",
      "source": [
        "# GridSearchCV in scikit-learn\n",
        "from sklearn.model_selection import GridSearchCV\n",
        "kf = KFold(n_splits=5, shuffle=True, random_state=42)\n",
        "param_grid = {\"alpha\": np.arange(0.0001, 1, 10),\n",
        "              \"solver\": [\"sag\", \"lsqr\"]}\n",
        "ridge = Ridge()\n",
        "ridge_cv = GridSearchCV(ridge, param_grid, cv=kf)\n",
        "ridge_cv.fit(X_train, y_train)\n",
        "print(ridge_cv.best_params_, ridge_cv.best_score_)"
      ],
      "metadata": {
        "colab": {
          "base_uri": "https://localhost:8080/"
        },
        "id": "6ixbkPO0mZkl",
        "outputId": "f2cf2118-27f9-4e69-88f7-cdeb49681ee9"
      },
      "execution_count": 164,
      "outputs": [
        {
          "output_type": "stream",
          "name": "stdout",
          "text": [
            "{'alpha': 0.0001, 'solver': 'sag'} 0.29579621663426436\n"
          ]
        }
      ]
    },
    {
      "cell_type": "code",
      "source": [
        "# RandomizedSearchCV\n",
        "from sklearn.model_selection import RandomizedSearchCV\n",
        "kf = KFold(n_splits=5, shuffle=True, random_state=42)\n",
        "param_grid = {'alpha': np.arange(0.0001, 1, 10),\n",
        "              \"solver\": ['sag', 'lsqr']}\n",
        "ridge = Ridge()\n",
        "ridge_cv = RandomizedSearchCV(ridge, param_grid, cv=kf, n_iter=2)\n",
        "ridge_cv.fit(X_train, y_train)\n",
        "print(ridge_cv.best_params_, ridge_cv.best_score_)"
      ],
      "metadata": {
        "colab": {
          "base_uri": "https://localhost:8080/"
        },
        "id": "bQtVoRBpgtB_",
        "outputId": "a4cad42d-4486-45ad-b508-bf9681ceb565"
      },
      "execution_count": 165,
      "outputs": [
        {
          "output_type": "stream",
          "name": "stdout",
          "text": [
            "{'solver': 'sag', 'alpha': 0.0001} 0.295806841952537\n"
          ]
        }
      ]
    },
    {
      "cell_type": "code",
      "source": [
        "# Evaluating on the test set\n",
        "test_score = ridge_cv.score(X_test, y_test)\n",
        "print(test_score)"
      ],
      "metadata": {
        "colab": {
          "base_uri": "https://localhost:8080/"
        },
        "id": "aMy5nf6ogs_L",
        "outputId": "e329d746-d1c4-43c1-ec32-9875dd9d030f"
      },
      "execution_count": 166,
      "outputs": [
        {
          "output_type": "stream",
          "name": "stdout",
          "text": [
            "0.1975974420032205\n"
          ]
        }
      ]
    },
    {
      "cell_type": "code",
      "source": [
        "## 제출\n",
        "# Create the parameter space\n",
        "params = {\"penalty\": [\"l1\", \"l2\"],\n",
        "         \"tol\": np.linspace(0.0001, 1.0, 50),\n",
        "         \"C\": np.linspace(0.1, 1.0, 50),\n",
        "         \"class_weight\": [\"balanced\", {0:0.8, 1:0.2}]}\n",
        "\n",
        "# Instantiate the RandomizedSearchCV object\n",
        "logreg_cv = RandomizedSearchCV(logreg, params, cv=kf)\n",
        "\n",
        "# Fit the data to the model\n",
        "logreg_cv.fit(X_train, y_train)\n",
        "\n",
        "# Print the tuned parameters and score\n",
        "print(\"Tuned Logistic Regression Parameters: {}\".format(logreg_cv.best_params_))\n",
        "print(\"Tuned Logistic Regression Best Accuracy Score: {}\".format(logreg_cv.best_score_))"
      ],
      "metadata": {
        "id": "Sczs_K02gs8i"
      },
      "execution_count": null,
      "outputs": []
    },
    {
      "cell_type": "code",
      "source": [],
      "metadata": {
        "id": "P-QKv2a5gs57"
      },
      "execution_count": null,
      "outputs": []
    },
    {
      "cell_type": "code",
      "source": [],
      "metadata": {
        "id": "JhTBh2rqgs1D"
      },
      "execution_count": null,
      "outputs": []
    },
    {
      "cell_type": "code",
      "source": [],
      "metadata": {
        "id": "YGe1_LeBgssZ"
      },
      "execution_count": null,
      "outputs": []
    },
    {
      "cell_type": "code",
      "source": [],
      "metadata": {
        "id": "Ywcng5MLgsbN"
      },
      "execution_count": null,
      "outputs": []
    }
  ]
}